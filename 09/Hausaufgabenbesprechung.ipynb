{
 "cells": [
  {
   "cell_type": "markdown",
   "metadata": {
    "colab_type": "text",
    "id": "sbFx8yScDanY"
   },
   "source": [
    "# Hausaufgabenbesprechung: Aufgaben für Stift und Papier ( oder im Kopf :) )"
   ]
  },
  {
   "cell_type": "markdown",
   "metadata": {
    "colab_type": "text",
    "id": "UQXVX2ZJDczH"
   },
   "source": [
    "<div style=\"background-color:lightyellow\">\n",
    "\n",
    "**Aufgabe 1:**\n",
    "\n",
    "Findet von folgenden komplexen Zahlen den absoluten Wert heraus:\n",
    "\n",
    "1. $i$\n",
    "2. $2$\n",
    "3. $2 + 2i$\n",
    "4. $\\sqrt{2} + \\sqrt{7}i$\n",
    "\n",
    "</div>"
   ]
  },
  {
   "cell_type": "markdown",
   "metadata": {
    "colab_type": "text",
    "id": "g3VDBSMIMfRG"
   },
   "source": [
    "Formel: \n",
    "\n",
    "$|a| = \\sqrt{a^2 + b^2}$"
   ]
  },
  {
   "cell_type": "markdown",
   "metadata": {
    "colab_type": "text",
    "id": "yipSiX4s-opK"
   },
   "source": [
    "1. 1\n",
    "2. 2\n",
    "3. √8 ($\\sqrt{a^2 + b^2} = \\sqrt{2^2 + 2^2} = \\sqrt{4 + 4} = \\sqrt{8}$)\n",
    "4. 3 ($\\sqrt{\\sqrt{2}^2 + \\sqrt{7}^2} = \\sqrt{2 + 7} = \\sqrt{9} = 3$)"
   ]
  },
  {
   "cell_type": "markdown",
   "metadata": {
    "colab_type": "text",
    "id": "R-VjY-wFDf_x"
   },
   "source": [
    "<div style=\"background-color:lightyellow\">\n",
    "\n",
    "**Aufgabe 2:**\n",
    "\n",
    "Findet den Winkel der folgenden komplexen Zahlen heraus:\n",
    "\n",
    "1. $1$\n",
    "2. $i$\n",
    "3. $1 + i$\n",
    "4. $-1$\n",
    "5. $-1 + i$\n",
    "\n",
    "</div>"
   ]
  },
  {
   "cell_type": "markdown",
   "metadata": {
    "colab_type": "text",
    "id": "-ZU7-B4e-tif"
   },
   "source": [
    "In Grad:\n",
    "\n",
    "1. 0\n",
    "2. 90\n",
    "3. 45\n",
    "4. 180\n",
    "5. 135\n",
    "\n",
    "In Radianten:\n",
    "\n",
    "1. $0$\n",
    "2. $\\frac{\\pi}{2}$\n",
    "3. $\\frac{\\pi}{4}$\n",
    "4. $\\pi$\n",
    "5. $\\frac{3 \\pi}{4}$"
   ]
  },
  {
   "cell_type": "markdown",
   "metadata": {
    "colab_type": "text",
    "id": "4wR6pWK1PKW3"
   },
   "source": [
    "Umrechnung von Grad zu Radianten und andersherum:\n",
    "\n",
    "$\\varphi_{deg} = \\frac{360}{2 \\pi} \\cdot \\varphi_{rad} = \\frac{2 \\cdot 180}{2 \\cdot \\pi} \\cdot \\varphi_{rad} = \\frac{180}{ \\pi} \\cdot \\varphi_{rad}$\n",
    "\n",
    "$\\varphi_{rad} = \\varphi_{deg} \\cdot \\frac{\\pi}{180}$"
   ]
  }
 ],
 "metadata": {
  "colab": {
   "collapsed_sections": [],
   "name": "Hausaufgabenbesprechung",
   "provenance": []
  },
  "kernelspec": {
   "display_name": "Python 3",
   "language": "python",
   "name": "python3"
  },
  "language_info": {
   "codemirror_mode": {
    "name": "ipython",
    "version": 3
   },
   "file_extension": ".py",
   "mimetype": "text/x-python",
   "name": "python",
   "nbconvert_exporter": "python",
   "pygments_lexer": "ipython3",
   "version": "3.7.7"
  },
  "toc": {
   "base_numbering": 1,
   "nav_menu": {},
   "number_sections": true,
   "sideBar": true,
   "skip_h1_title": false,
   "title_cell": "Table of Contents",
   "title_sidebar": "Contents",
   "toc_cell": false,
   "toc_position": {},
   "toc_section_display": true,
   "toc_window_display": true
  },
  "varInspector": {
   "cols": {
    "lenName": 16,
    "lenType": 16,
    "lenVar": 40
   },
   "kernels_config": {
    "python": {
     "delete_cmd_postfix": "",
     "delete_cmd_prefix": "del ",
     "library": "var_list.py",
     "varRefreshCmd": "print(var_dic_list())"
    },
    "r": {
     "delete_cmd_postfix": ") ",
     "delete_cmd_prefix": "rm(",
     "library": "var_list.r",
     "varRefreshCmd": "cat(var_dic_list()) "
    }
   },
   "types_to_exclude": [
    "module",
    "function",
    "builtin_function_or_method",
    "instance",
    "_Feature"
   ],
   "window_display": false
  }
 },
 "nbformat": 4,
 "nbformat_minor": 1
}
