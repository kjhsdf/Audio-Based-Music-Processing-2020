{
 "cells": [
  {
   "cell_type": "markdown",
   "metadata": {},
   "source": [
    "# Imports"
   ]
  },
  {
   "cell_type": "code",
   "execution_count": 4,
   "metadata": {},
   "outputs": [],
   "source": [
    "import numpy as np\n",
    "import matplotlib.pyplot as plt\n",
    "from IPython.display import Audio\n",
    "import librosa as lr"
   ]
  },
  {
   "cell_type": "markdown",
   "metadata": {},
   "source": [
    "# Integral vom \"inneren Produkt\" als Ähnlichkeitsmaß zweier Funktionen\n",
    "\n",
    "<b style=\"background-color:lightyellow\">Aufgaben für alle</b>\n",
    "\n",
    "<b style=\"background-color:lightblue\">optionale Aufgaben</b>\n",
    "\n",
    "<br/>\n",
    "\n",
    "<p><div style=\"background-color:lightyellow;border-style:groove\">\n",
    "\n",
    "**Aufgabe 1:**\n",
    "\n",
    "Bearbeitet Aufgabe 2.1 aus Meinard Müllers \"[Fundamentals of Music Processing: Audio, Analysis, Algorithms, Applications](https://books.google.de/books?id=HCI_CgAAQBAJ&pg=PA110&dq=fundamentals+of+music+processing+exercise+2.1&hl=de&sa=X&ved=2ahUKEwiKyuiwm5jqAhXKw8QBHY_-DZAQ6AEwAHoECAEQAg#v=onepage&q=fundamentals%20of%20music%20processing%20exercise%202.1&f=false)\" auf Seite 110 und schreibt die Ergebnisse in eine Tabelle oder Liste.\n",
    "\n",
    "</div></p>"
   ]
  },
  {
   "cell_type": "markdown",
   "metadata": {},
   "source": [
    "|--|f1|f2|f3|f4|f5|f6|\n",
    "|--|--|--|--|--|--|--|\n",
    "|f1|--| 1|--|--|--|--|\n",
    "|f2| 1|--|--|--|--|--|\n",
    "|f3|--|--|--|--|--|--|\n",
    "|f4|--|--|--|--|--|--|\n",
    "|f5|--|--|--|--|--|--|\n",
    "|f6|--|--|--|--|--|--|\n",
    "\n",
    "\n",
    "- f1 <-> f1 : \n",
    "- f1 <-> f2 : 1\n",
    "- f1 <-> f3 : \n",
    "- f1 <-> f4 : \n",
    "- f1 <-> f5 : \n",
    "- f1 <-> f6 : \n",
    "- f2 <-> f2 : \n",
    "- f2 <-> f3 : \n",
    "- f2 <-> f4 : \n",
    "- f2 <-> f5 : \n",
    "- f2 <-> f6 : \n",
    "- f3 <-> f3 : \n",
    "- f3 <-> f4 : \n",
    "- f3 <-> f5 : \n",
    "- f3 <-> f6 : \n",
    "- f4 <-> f4 : \n",
    "- f4 <-> f5 : \n",
    "- f4 <-> f6 : \n",
    "- f5 <-> f5 : \n",
    "- f5 <-> f6 : \n",
    "- f6 <-> f6 : "
   ]
  },
  {
   "cell_type": "code",
   "execution_count": 24,
   "metadata": {},
   "outputs": [
    {
     "name": "stdout",
     "output_type": "stream",
     "text": [
      "1) f1, f1: 2.0\n",
      "2) f1, f2: 1.0\n",
      "3) f1, f3: 1.0\n",
      "4) f1, f4: 0.0\n",
      "5) f1, f5: 0.0\n",
      "6) f1, f6: 0.0\n",
      "7) f2, f2: 1.0\n",
      "8) f2, f3: 0.0\n",
      "9) f2, f4: 1.0\n",
      "10) f2, f5: -1.0\n",
      "11) f2, f6: 0.0\n",
      "12) f3, f3: 1.0\n",
      "13) f3, f4: -1.0\n",
      "14) f3, f5: 1.0\n",
      "15) f3, f6: 0.0\n",
      "16) f4, f4: 2.0\n",
      "17) f4, f5: -2.0\n",
      "18) f4, f6: 0.0\n",
      "19) f5, f5: 2.5\n",
      "20) f5, f6: 0.0\n",
      "21) f6, f6: 2.0\n"
     ]
    }
   ],
   "source": [
    "# Aufgabe 1\n",
    "\n",
    "def f1(x):\n",
    "    if x == 1: return 0\n",
    "    else: return 1\n",
    "def f2(x):\n",
    "    if x in (-1, -0.5): return 1\n",
    "    else: return 0\n",
    "def f3(x):\n",
    "    if x in (0, .5): return 1\n",
    "    else: return 0\n",
    "def f4(x):\n",
    "    if x in (-1, -.5): return 1\n",
    "    elif x in (0, .5): return -1\n",
    "    else: return 0\n",
    "def f5(x):\n",
    "    if x in (-1, -.5): return -1\n",
    "    elif x in (0, .5): return 1\n",
    "    else: return 1\n",
    "def f6(x):\n",
    "    if x in (-1, 0): return 1\n",
    "    elif x in (-.5, .5): return -1\n",
    "    else: return 0\n",
    "\n",
    "# Functions\n",
    "FUNS = {1: f1, 2: f2, 3: f3, 4: f4, 5: f5, 6: f6}\n",
    "# Delta x\n",
    "DX = .5\n",
    "\n",
    "n = 1\n",
    "for i in range(1, 7):\n",
    "    for j in range(i, 7):\n",
    "        prod = []\n",
    "        for x in (-1, -.5, 0, .5, 1):\n",
    "            prod.append(FUNS[i](x) * FUNS[j](x))\n",
    "        print(\"{}) f{}, f{}: {}\".format(n, i, j, sum(prod) * DX))\n",
    "        n += 1"
   ]
  },
  {
   "cell_type": "markdown",
   "metadata": {},
   "source": [
    "# Ähnlichkeitsmaß \"in Code\"\n",
    "\n",
    "Anstatt zu integrieren, rechnen wir im diskreten Bereich mit Summen.\n",
    "\n",
    "Per Definition ist das Integral einer Funktion das Limit einer sog. Riemann Summe gen Unendlich:\n",
    "\n",
    "${\\displaystyle \\int _{a}^{b}\\!f(x)\\,dx=\\lim _{\\|\\Delta x\\|\\rightarrow 0}\\sum _{i=1}^{n}f(x_i)\\,\\Delta x_i.}$\n",
    "\n",
    "Wobei $\\Delta x_i = \\frac{b - a}{n}$ ist und $x_i = a + \\Delta x \\cdot i$\n",
    "\n",
    "In unserem Fall ist $\\Delta x_i = \\frac{1}{Fs}$ ($Fs$ --> Sample-Rate) und $x_i$ ist der jeweilige Index unseres diskreten Audio-Signals.\n",
    "\n",
    "<p><div style=\"background-color:lightblue;border-style:groove\">\n",
    "\n",
    "**Aufgabe 2:**\n",
    "\n",
    "Im folgenden Beispiel sind wieder 6 Funktionen definiert. Befüllt durch verschachtelte Loops die Tabelle `sim_matrix` mit den jeweiligen Ähnlichkeitsmaßen (wie in Aufgabe 1), indem ihr jeweils die Summe des \"inneren Produkts\" durch $Fs$ dividiert.\n",
    "\n",
    "</div></p>"
   ]
  },
  {
   "cell_type": "code",
   "execution_count": 29,
   "metadata": {},
   "outputs": [
    {
     "data": {
      "image/png": "[encoded data removed]",
      "text/plain": [
       "<Figure size 432x288 with 1 Axes>"
      ]
     },
     "metadata": {
      "needs_background": "light"
     },
     "output_type": "display_data"
    },
    {
     "data": {
      "image/png": "[encoded data removed]",
      "text/plain": [
       "<Figure size 432x288 with 1 Axes>"
      ]
     },
     "metadata": {
      "needs_background": "light"
     },
     "output_type": "display_data"
    },
    {
     "data": {
      "image/png": "[encoded data removed]",
      "text/plain": [
       "<Figure size 432x288 with 1 Axes>"
      ]
     },
     "metadata": {
      "needs_background": "light"
     },
     "output_type": "display_data"
    },
    {
     "data": {
      "image/png": "[encoded data removed]",
      "text/plain": [
       "<Figure size 432x288 with 1 Axes>"
      ]
     },
     "metadata": {
      "needs_background": "light"
     },
     "output_type": "display_data"
    },
    {
     "data": {
      "image/png": "[encoded data removed]",
      "text/plain": [
       "<Figure size 432x288 with 1 Axes>"
      ]
     },
     "metadata": {
      "needs_background": "light"
     },
     "output_type": "display_data"
    },
    {
     "data": {
      "image/png": "[encoded data removed]",
      "text/plain": [
       "<Figure size 432x288 with 1 Axes>"
      ]
     },
     "metadata": {
      "needs_background": "light"
     },
     "output_type": "display_data"
    },
    {
     "name": "stdout",
     "output_type": "stream",
     "text": [
      "[[ 2.  1.  1.  0.  0.  0.]\n",
      " [ 1.  1.  0.  1. -1.  0.]\n",
      " [ 1.  0.  1. -1.  1.  0.]\n",
      " [ 0.  1. -1.  2. -2.  0.]\n",
      " [ 0. -1.  1. -2.  2.  0.]\n",
      " [ 0.  0.  0.  0.  0.  2.]]\n"
     ]
    }
   ],
   "source": [
    "sr = 100\n",
    "length = 4\n",
    "f1 = np.concatenate((np.zeros(sr), np.ones(int(sr * 2)), np.zeros(sr)))\n",
    "f2 = np.concatenate((np.zeros(sr), np.ones(sr), np.zeros(int(sr * 2))))\n",
    "f3 = np.concatenate((np.zeros(int(sr * 2)), np.ones(sr), np.zeros(sr)))\n",
    "f4 = np.concatenate((np.zeros(sr), np.ones(sr), np.ones(sr) * -1, np.zeros(sr)))\n",
    "f5 = np.concatenate((np.zeros(sr), np.ones(sr) * -1, np.ones(sr), np.zeros(sr)))\n",
    "f6 = np.concatenate((np.zeros(sr), np.ones(int(sr / 2)), np.ones(int(sr / 2)) * -1, np.ones(int(sr / 2)), np.ones(int(sr / 2)) * -1, np.zeros(sr)))\n",
    "t = np.linspace(length / -2, length /  2, int(sr * length))\n",
    "\n",
    "funcs = np.array([f1, f2, f3, f4, f5, f6])\n",
    "\n",
    "sim_matrix = np.zeros((6, 6))\n",
    "\n",
    "for func in funcs:    \n",
    "    plt.plot(t, func)\n",
    "    plt.ylim(-1.2, 1.2)\n",
    "    plt.xlim(length / -2 + 0.6, length / 2 - 0.6)\n",
    "    plt.show()\n",
    "    \n",
    "#print(len(funcs[16:]))\n",
    "for i, f1 in enumerate(funcs):\n",
    "    for j, f2 in enumerate(funcs):\n",
    "        sim_matrix[i][j] = sum(f1 * f2) * sr ** -1\n",
    "        \n",
    "print(sim_matrix)"
   ]
  },
  {
   "cell_type": "code",
   "execution_count": null,
   "metadata": {},
   "outputs": [],
   "source": []
  }
 ],
 "metadata": {
  "kernelspec": {
   "display_name": "Python 3",
   "language": "python",
   "name": "python3"
  },
  "language_info": {
   "codemirror_mode": {
    "name": "ipython",
    "version": 3
   },
   "file_extension": ".py",
   "mimetype": "text/x-python",
   "name": "python",
   "nbconvert_exporter": "python",
   "pygments_lexer": "ipython3",
   "version": "3.7.7"
  },
  "toc": {
   "base_numbering": 1,
   "nav_menu": {},
   "number_sections": true,
   "sideBar": true,
   "skip_h1_title": false,
   "title_cell": "Table of Contents",
   "title_sidebar": "Contents",
   "toc_cell": false,
   "toc_position": {},
   "toc_section_display": true,
   "toc_window_display": true
  },
  "varInspector": {
   "cols": {
    "lenName": 16,
    "lenType": 16,
    "lenVar": 40
   },
   "kernels_config": {
    "python": {
     "delete_cmd_postfix": "",
     "delete_cmd_prefix": "del ",
     "library": "var_list.py",
     "varRefreshCmd": "print(var_dic_list())"
    },
    "r": {
     "delete_cmd_postfix": ") ",
     "delete_cmd_prefix": "rm(",
     "library": "var_list.r",
     "varRefreshCmd": "cat(var_dic_list()) "
    }
   },
   "types_to_exclude": [
    "module",
    "function",
    "builtin_function_or_method",
    "instance",
    "_Feature"
   ],
   "window_display": false
  }
 },
 "nbformat": 4,
 "nbformat_minor": 2
}
