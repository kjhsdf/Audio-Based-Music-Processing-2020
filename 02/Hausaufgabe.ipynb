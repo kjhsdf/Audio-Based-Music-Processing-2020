{
 "cells": [
  {
   "cell_type": "markdown",
   "metadata": {},
   "source": [
    "# \"Melodie\" generieren\n",
    "\n",
    "Generiert eine \"Melodie\":\n",
    "\n",
    "- Sie soll aus mindestens drei (Sinus-)Tönen bestehen.\n",
    "- Die drei (oder mehr) Töne sollen hintereinander kommen (also einstimmig, nicht mehrstimmig).\n",
    "- Die Frequenzen dieser Töne sollen unserem temperierten Stimmungssystem entsprechen.\n",
    "\n",
    "Tipps:\n",
    "\n",
    "- Wir haben in der gemeinsamen Sitzung gesehen, wie man Sinustöne in einen Array schreibt ( / generiert).\n",
    "- np.append könnte nützlich sein.\n",
    "- Siehe die Funktionen um eine Midi-Tonhöhe in Frequenz umzurechnen"
   ]
  },
  {
   "cell_type": "code",
   "execution_count": null,
   "metadata": {},
   "outputs": [],
   "source": [
    "import matplotlib.pyplot as plt\n",
    "import IPython.display as ipd\n",
    "import numpy as np\n",
    "from random import (randint, choice)\n",
    "\n",
    "def m2f(pitch):\n",
    "    return 440 * 2 ** ((pitch - 69) / 12)\n",
    "\n",
    "# Number of semitones in the current octave\n",
    "_major = [0, 2, 4,5,7,9,11,12]\n",
    "_minor_natural = [0, 2, 3, 5, 7, 8, 10, 12]\n",
    "_minor_harmonic = [0, 2,3,5,7,8,11,12]\n",
    "\n",
    "def rnd_note(base_keynum, scale):\n",
    "    \"\"\n",
    "    return base_keynum + choice(scale) \n",
    "\n",
    "sample_rate = 44100\n",
    "melody = np.array([])\n",
    "count_tones = 20\n",
    "for i in range(count_tones):\n",
    "    sinus = np.sin(np.linspace(0, m2f(rnd_note(69, _minor_harmonic)) * np.pi * 2, sample_rate))\n",
    "    melody = np.append(melody, sinus)\n",
    "\n",
    "ipd.Audio(melody, rate=sample_rate)\n"
   ]
  },
  {
   "cell_type": "markdown",
   "metadata": {},
   "source": [
    "# Frequenz-Modulation\n",
    "\n",
    "Generiert einen Sinuston mit modulierter Frequenz:\n",
    "\n",
    "- sog. Chirp (Glissando aufwärts oder abwärts), oder\n",
    "- Frequenzmodulation mit einem Sinus als Modulator\n",
    "\n",
    "Tipp:\n",
    "\n",
    "- Bedenkt, wie numpy-Arrays miteinander verrechnet werden (element-weise)"
   ]
  },
  {
   "cell_type": "code",
   "execution_count": null,
   "metadata": {},
   "outputs": [],
   "source": [
    "\n",
    "import matplotlib.pyplot as plt\n",
    "import IPython.display as ipd\n",
    "import numpy as np\n",
    "\n",
    "\n",
    "\n",
    "sr = 44100\n",
    "\n",
    "freq = 440\n",
    "t = np.linspace(0, freq * np.pi * 2, sr)\n",
    "sinus = np.sin(t)\n",
    "\n",
    "t2 = np.linspace(0, 4 * np.pi * 2, sr)\n",
    "modulator = np.sin(t2)\n",
    "    \n",
    "# Frequenzmodulation    \n",
    "    \n",
    "plt.plot(sinus)\n",
    "ipd.Audio(sinus * modulator, rate=44100)"
   ]
  }
 ],
 "metadata": {
  "kernelspec": {
   "display_name": "Python 3",
   "language": "python",
   "name": "python3"
  },
  "language_info": {
   "codemirror_mode": {
    "name": "ipython",
    "version": 3
   },
   "file_extension": ".py",
   "mimetype": "text/x-python",
   "name": "python",
   "nbconvert_exporter": "python",
   "pygments_lexer": "ipython3",
   "version": "3.7.7"
  },
  "toc": {
   "base_numbering": 1,
   "nav_menu": {},
   "number_sections": true,
   "sideBar": true,
   "skip_h1_title": false,
   "title_cell": "Table of Contents",
   "title_sidebar": "Contents",
   "toc_cell": false,
   "toc_position": {},
   "toc_section_display": true,
   "toc_window_display": true
  },
  "varInspector": {
   "cols": {
    "lenName": 16,
    "lenType": 16,
    "lenVar": 40
   },
   "kernels_config": {
    "python": {
     "delete_cmd_postfix": "",
     "delete_cmd_prefix": "del ",
     "library": "var_list.py",
     "varRefreshCmd": "print(var_dic_list())"
    },
    "r": {
     "delete_cmd_postfix": ") ",
     "delete_cmd_prefix": "rm(",
     "library": "var_list.r",
     "varRefreshCmd": "cat(var_dic_list()) "
    }
   },
   "types_to_exclude": [
    "module",
    "function",
    "builtin_function_or_method",
    "instance",
    "_Feature"
   ],
   "window_display": false
  }
 },
 "nbformat": 4,
 "nbformat_minor": 2
}
