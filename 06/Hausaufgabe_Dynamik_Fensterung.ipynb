{
 "cells": [
  {
   "cell_type": "markdown",
   "metadata": {
    "colab_type": "text",
    "id": "AGc3XJBqHG4z"
   },
   "source": [
    "# Imports"
   ]
  },
  {
   "cell_type": "code",
   "execution_count": null,
   "metadata": {},
   "outputs": [],
   "source": [
    "import numpy as np\n",
    "import matplotlib.pyplot as plt\n",
    "import librosa as lr\n",
    "from IPython.display import Audio"
   ]
  },
  {
   "cell_type": "markdown",
   "metadata": {
    "colab_type": "text",
    "id": "-OR-BJ3sc2vU"
   },
   "source": [
    "# Dynamics"
   ]
  },
  {
   "cell_type": "markdown",
   "metadata": {
    "colab_type": "text",
    "id": "BipN8Vqac46G"
   },
   "source": [
    "<div style=\"background-color:lightyellow\">\n",
    "\n",
    "**Aufgabe 1:**\n",
    "\n",
    "Wenn man die Intensität eines Sounds um 15 dB erhöht, um welchen Faktor hat sich die Intensität dann erhöht?\n",
    "\n",
    "</div>"
   ]
  },
  {
   "cell_type": "markdown",
   "metadata": {
    "colab_type": "text",
    "id": "_ybA6oztU5Jp"
   },
   "source": [
    "# Load Audio"
   ]
  },
  {
   "cell_type": "code",
   "execution_count": null,
   "metadata": {},
   "outputs": [],
   "source": [
    "x, sr = lr.load('violin.mp3')\n",
    "display(Audio(x, rate=sr))"
   ]
  },
  {
   "cell_type": "markdown",
   "metadata": {
    "colab_type": "text",
    "id": "DdKHTa1TTDY1"
   },
   "source": [
    "# Fensterung"
   ]
  },
  {
   "cell_type": "markdown",
   "metadata": {
    "colab_type": "text",
    "id": "L-_kBkWJTIp1"
   },
   "source": [
    "Heute haben wir die Funktion `lr.util.frame` kennengelernt, mit Hilfe derer wir das Audio ohne `for`-Loop fenstern können.\n",
    "\n",
    "<br/>\n",
    "\n",
    "<div style=\"background-color:lightyellow\">\n",
    "\n",
    "**Aufgabe 2:**\n",
    "\n",
    "Schreibt eine Version der `calc_env`-Funktion, in der ihr `lr.util.frame` verwendet.\n",
    "\n",
    "</div>"
   ]
  },
  {
   "cell_type": "code",
   "execution_count": null,
   "metadata": {},
   "outputs": [],
   "source": [
    "def calc_env(x, hop_length=200, window_size=400):\n",
    "\n",
    "    # euer code\n",
    "    x_framed = ...\n",
    "    amp_env = ...\n",
    "\n",
    "    return amp_env\n",
    "\n",
    "amp = calc_env(x)\n",
    "plt.plot(x)\n",
    "t = np.linspace(0, np.shape(x)[0], np.shape(amp)[0])\n",
    "plt.plot(t, amp)"
   ]
  },
  {
   "cell_type": "markdown",
   "metadata": {
    "colab_type": "text",
    "id": "HY1dHHa4HDMo"
   },
   "source": [
    "\n",
    "\n",
    "Im Zuge der sogenannten STFT (Short Time Fourier Transform), mit der wir ein Spektrogramm abbilden können, werden wir die einzelnen Fenster mit einer Fensterfunktion multiplizieren, um bestimmten Werten in unserem Fenster mehr Gewichtung in der darauffolgenden Berechnung zu geben, als anderen.\n",
    "\n",
    "Sehr bekannt ist das sog. Von-Hann-Fenster:\n",
    "\n",
    "$hann(n)={\\frac {1}{2}}\\left[1-\\cos \\left({\\frac {2\\pi n}{M-1}}\\right)\\right]$"
   ]
  },
  {
   "cell_type": "markdown",
   "metadata": {
    "colab_type": "text",
    "id": "fA7LUCn7Hoqa"
   },
   "source": [
    "<div style=\"background-color:lightyellow\">\n",
    "\n",
    "**Aufgabe 3:**\n",
    "\n",
    "Schreibt eine Funktion `calc_hann` mithilfe derer wir die einzelnen Fenster eines fiktiven Signals gewichten (= multiplizieren) können.\n",
    "\n",
    "Der Code-Block sollte folgenden plot ergeben:\n",
    "\n",
    "![hanning-window](hann_plot.png)\n",
    "\n",
    "</div>"
   ]
  },
  {
   "cell_type": "code",
   "execution_count": null,
   "metadata": {},
   "outputs": [],
   "source": [
    "m = 50\n",
    "def calc_hann(m=100):\n",
    "    n = np.linspace(0, m, m)\n",
    "\n",
    "    # euer Code:\n",
    "    hann = ...\n",
    "\n",
    "    return hann\n",
    "\n",
    "plt.figure(figsize=(5 * 2, 4))\n",
    "plt.subplot(1, 2, 1)\n",
    "plt.plot(hann)\n",
    "\n",
    "x = np.arange(100)\n",
    "x_framed = lr.util.frame(x, frame_length=m, hop_length=2)\n",
    "hann_framed = np.tile(hann, (np.shape(x_framed)[1], 1)).T\n",
    "x_windowed = hann_framed * x_framed\n",
    "plt.subplot(1, 2, 2)\n",
    "plt.imshow(x_windowed / np.max(np.abs(x_windowed)), aspect='auto', origin='lower')\n",
    "plt.xlabel('Fenster-Indizes')\n",
    "plt.ylabel('Werte im jew. Fenster')\n",
    "plt.show()"
   ]
  }
 ],
 "metadata": {
  "colab": {
   "collapsed_sections": [],
   "name": "Hausaufgabe_Dynamik_Fensterung.ipynb",
   "provenance": []
  },
  "kernelspec": {
   "display_name": "Python 3",
   "language": "python",
   "name": "python3"
  },
  "language_info": {
   "codemirror_mode": {
    "name": "ipython",
    "version": 3
   },
   "file_extension": ".py",
   "mimetype": "text/x-python",
   "name": "python",
   "nbconvert_exporter": "python",
   "pygments_lexer": "ipython3",
   "version": "3.7.7"
  },
  "toc": {
   "base_numbering": 1,
   "nav_menu": {},
   "number_sections": true,
   "sideBar": true,
   "skip_h1_title": false,
   "title_cell": "Table of Contents",
   "title_sidebar": "Contents",
   "toc_cell": false,
   "toc_position": {},
   "toc_section_display": true,
   "toc_window_display": true
  },
  "varInspector": {
   "cols": {
    "lenName": 16,
    "lenType": 16,
    "lenVar": 40
   },
   "kernels_config": {
    "python": {
     "delete_cmd_postfix": "",
     "delete_cmd_prefix": "del ",
     "library": "var_list.py",
     "varRefreshCmd": "print(var_dic_list())"
    },
    "r": {
     "delete_cmd_postfix": ") ",
     "delete_cmd_prefix": "rm(",
     "library": "var_list.r",
     "varRefreshCmd": "cat(var_dic_list()) "
    }
   },
   "types_to_exclude": [
    "module",
    "function",
    "builtin_function_or_method",
    "instance",
    "_Feature"
   ],
   "window_display": false
  }
 },
 "nbformat": 4,
 "nbformat_minor": 1
}
