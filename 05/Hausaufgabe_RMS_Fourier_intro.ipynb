{
 "cells": [
  {
   "cell_type": "markdown",
   "metadata": {
    "colab_type": "text",
    "id": "josM2GA1PyJy"
   },
   "source": [
    "# Imports"
   ]
  },
  {
   "cell_type": "code",
   "execution_count": null,
   "metadata": {},
   "outputs": [],
   "source": [
    "import numpy as np\n",
    "import IPython.display as ipd\n",
    "import librosa as lr\n",
    "import matplotlib.pyplot as plt"
   ]
  },
  {
   "cell_type": "markdown",
   "metadata": {
    "colab_type": "text",
    "id": "kVE6l9273FOt"
   },
   "source": [
    "# RMS (Root Mean Square)"
   ]
  },
  {
   "cell_type": "markdown",
   "metadata": {
    "colab_type": "text",
    "id": "0N0H8xLrZ7fb"
   },
   "source": [
    "RMS ist definiert als die Wurzel (Root) des quadratischen (Square) Durchschnitts (Mean):\n",
    "\n",
    "$x_{\\text{RMS}}={\\sqrt {{\\frac {1}{n}}\\left(x_{1}^{2}+x_{2}^{2}+\\cdots +x_{n}^{2}\\right)}}$\n",
    "\n",
    "<br/>\n",
    "\n",
    "<div style=\"background-color:lightyellow\">\n",
    "\n",
    "**Aufgabe 1:**\n",
    "\n",
    "Berechnet den RMS-Wert von unserem Audio-Sample.\n",
    "\n",
    "*Tipp:*\n",
    "\n",
    "Es gibt mehrere Lösungsansätze:\n",
    "\n",
    "1. mit `np.sum`\n",
    "2. mit `np.mean`\n",
    "3. ...\n",
    "\n",
    "</div>"
   ]
  },
  {
   "cell_type": "code",
   "execution_count": null,
   "metadata": {},
   "outputs": [],
   "source": [
    "x, sr = lr.load('violin.mp3')\n",
    "\n",
    "rms = ...\n",
    "\n",
    "plt.plot(x)\n",
    "rms = np.ones(np.shape(x)[0]) * rms\n",
    "plt.plot(rms)"
   ]
  },
  {
   "cell_type": "markdown",
   "metadata": {
    "colab_type": "text",
    "id": "49JF6f7olCbb"
   },
   "source": [
    "RMS kann (im digitalen) auch als eine (diskrete) Folge an Werten definiert werden.\n",
    "\n",
    "<br/>\n",
    "\n",
    "<div style=\"background-color:lightyellow\">\n",
    "\n",
    "**Aufgabe 2:**\n",
    "\n",
    "Schreibt eine Funktion basierend auf der `calc_envelope` Funktion, die mithilfe der Fensterungstechnik eine RMS-Envelope berechnet.\n",
    "</div>"
   ]
  },
  {
   "cell_type": "code",
   "execution_count": null,
   "metadata": {},
   "outputs": [],
   "source": [
    "def calc_rms_env(x, hop_size=100, win_len = 200):\n",
    "    \n",
    "    num_windows = ...\n",
    "\n",
    "    rms_env = np.array([])\n",
    "\n",
    "    for i in range(num_windows):\n",
    "        ...\n",
    "        rms_env = ...\n",
    "    \n",
    "    return \n",
    "\n",
    "plt.plot(x)\n",
    "rms_env = calc_rms_env(x)\n",
    "t_env = np.linspace(0, np.shape(x)[0], np.shape(rms_env)[0])\n",
    "plt.plot(t_env, rms_env)"
   ]
  },
  {
   "cell_type": "markdown",
   "metadata": {
    "colab_type": "text",
    "id": "T5oFe_yRnTyW"
   },
   "source": [
    "# Fourier Transformation\n",
    "\n",
    "<br/>\n",
    "<div style=\"background-color:lightyellow\">\n",
    "\n",
    "**Aufgabe 3:**\n",
    "\n",
    "Seht euch bitte bis nächste Woche folgendes [Video](https://youtu.be/spUNpyF58BY) vom Kanal 3blue1brown über die Fourier-Transformation an.\n",
    "\n",
    "</div>"
   ]
  }
 ],
 "metadata": {
  "colab": {
   "collapsed_sections": [],
   "name": "Hausaufgabe_RMS_Complex_numbers",
   "provenance": [],
   "toc_visible": true
  },
  "kernelspec": {
   "display_name": "Python 3",
   "language": "python",
   "name": "python3"
  },
  "language_info": {
   "codemirror_mode": {
    "name": "ipython",
    "version": 3
   },
   "file_extension": ".py",
   "mimetype": "text/x-python",
   "name": "python",
   "nbconvert_exporter": "python",
   "pygments_lexer": "ipython3",
   "version": "3.7.7"
  },
  "toc": {
   "base_numbering": 1,
   "nav_menu": {},
   "number_sections": true,
   "sideBar": true,
   "skip_h1_title": false,
   "title_cell": "Table of Contents",
   "title_sidebar": "Contents",
   "toc_cell": false,
   "toc_position": {},
   "toc_section_display": true,
   "toc_window_display": true
  },
  "varInspector": {
   "cols": {
    "lenName": 16,
    "lenType": 16,
    "lenVar": 40
   },
   "kernels_config": {
    "python": {
     "delete_cmd_postfix": "",
     "delete_cmd_prefix": "del ",
     "library": "var_list.py",
     "varRefreshCmd": "print(var_dic_list())"
    },
    "r": {
     "delete_cmd_postfix": ") ",
     "delete_cmd_prefix": "rm(",
     "library": "var_list.r",
     "varRefreshCmd": "cat(var_dic_list()) "
    }
   },
   "types_to_exclude": [
    "module",
    "function",
    "builtin_function_or_method",
    "instance",
    "_Feature"
   ],
   "window_display": false
  }
 },
 "nbformat": 4,
 "nbformat_minor": 1
}
