{
 "cells": [
  {
   "cell_type": "markdown",
   "metadata": {
    "colab_type": "text",
    "id": "rzH9fl5z9-Pn"
   },
   "source": [
    "# Import"
   ]
  },
  {
   "cell_type": "code",
   "execution_count": 6,
   "metadata": {
    "colab": {},
    "colab_type": "code",
    "executionInfo": {
     "elapsed": 3012,
     "status": "ok",
     "timestamp": 1594137109677,
     "user": {
      "displayName": "Daniel Kurosch Höpfner",
      "photoUrl": "",
      "userId": "06635282725808825539"
     },
     "user_tz": -120
    },
    "id": "PPX9UGgJ98nX"
   },
   "outputs": [],
   "source": [
    "import numpy as np\n",
    "import matplotlib.pyplot as plt\n",
    "from IPython.display import Audio\n",
    "import librosa as lr"
   ]
  },
  {
   "cell_type": "markdown",
   "metadata": {
    "colab_type": "text",
    "id": "AP47ubwy-ABq"
   },
   "source": [
    "# STFT"
   ]
  },
  {
   "cell_type": "markdown",
   "metadata": {},
   "source": [
    "In diesem Notebook werden wir die STFT selbst implementieren.\n",
    "\n",
    "Dafür verwenden wir die in der letzten Sitzung selbst implementierte DFT-Funktion `calc_dft`:"
   ]
  },
  {
   "cell_type": "code",
   "execution_count": 7,
   "metadata": {
    "colab": {},
    "colab_type": "code",
    "executionInfo": {
     "elapsed": 1915,
     "status": "ok",
     "timestamp": 1594137109680,
     "user": {
      "displayName": "Daniel Kurosch Höpfner",
      "photoUrl": "",
      "userId": "06635282725808825539"
     },
     "user_tz": -120
    },
    "id": "_zWm1luC-Avm"
   },
   "outputs": [],
   "source": [
    "def calc_dft(x):\n",
    "\n",
    "    N = np.shape(x)[0]\n",
    "    n = np.linspace(0, N, N) # arange\n",
    "\n",
    "    dft = np.array([])\n",
    "\n",
    "    for k in range(N):\n",
    "        e = np.exp(2 * np.pi * -1j * k * n / N)\n",
    "        dft_k = np.sum(x * e)\n",
    "        dft = np.append(dft, dft_k)\n",
    "    \n",
    "    return dft"
   ]
  },
  {
   "cell_type": "markdown",
   "metadata": {},
   "source": [
    "<p><div style=\"background-color:lightyellow;border-style:groove\">\n",
    "    \n",
    "**Aufgabe:**\n",
    "\n",
    "Implementiert die Funktion `calc_stft`\n",
    "\n",
    "*Tipps:*\n",
    "\n",
    "- Erinnert euch an Session 05: Envelopes | Windowing.\n",
    "- Die Ergebnisse der STFT sollen in einer Matrix (= multidimensionaler Array) gespeichert werden (siehe nächster Code-Block) –> Es bietet sich also an, einen leeren Array `stft` zu erstellen, in den man dann im Loop jeweils die Ergebnisse schreibt.\n",
    "    - `stft` muss also so viele Zeilen haben, wie das Fenster lang ist (`window_length`) und so viele Spalten haben, wie viele Fenster wir insgesamt berechnen werden (`num_wins`)\n",
    "    - Da das Ergebnis der DFT komplexe Zahlen liefert, müsst ihr mit dem `dtype`-keyword beim Erstellen des (numpy-)Arrays `complex` angeben.\n",
    "    - Innerhalb des Loops soll pro Fenster jeweils die DFT berechnet werden (verwendet hierfür `calc_dft` oder `np.fft.fft` - wie ihr mögt). Diese DFT soll dann in die jeweilige Spalte der `stft`-Matrix geschrieben werden -> erinnert euch daran, wie wir mit `a[start_y:stop_y, start_x:stop_y]` einen bestimmten Ausschnitt einer gegebenen Matrix (hier `a`) referenzieren können.\n",
    "\n",
    "</div></p>"
   ]
  },
  {
   "cell_type": "code",
   "execution_count": 5,
   "metadata": {},
   "outputs": [
    {
     "data": {
      "text/plain": [
       "array([['f0 t0', 'f0 t1', 'f0 t2', 'f0 t3', 'f0 t4', '...'],\n",
       "       ['f1 t0', 'f1 t1', 'f1 t2', 'f1 t3', 'f1 t4', '...'],\n",
       "       ['f2 t0', 'f2 t1', 'f2 t2', 'f2 t3', 'f2 t4', '...'],\n",
       "       ['f3 t0', 'f3 t1', 'f3 t2', 'f3 t3', 'f3 t4', '...'],\n",
       "       ['f4 t0', 'f4 t1', 'f4 t2', 'f4 t3', 'f4 t4', '...'],\n",
       "       ['...', '...', '...', '...', '...', '...']], dtype='<U5')"
      ]
     },
     "execution_count": 5,
     "metadata": {},
     "output_type": "execute_result"
    }
   ],
   "source": [
    "# f --> frequenz index\n",
    "# t --> zeit index\n",
    "\n",
    "np.array([['f0 t0', 'f0 t1', 'f0 t2', 'f0 t3', 'f0 t4', '...'], # fourier_coef 0\n",
    "          ['f1 t0', 'f1 t1', 'f1 t2', 'f1 t3', 'f1 t4', '...'], # fourier_coef 1\n",
    "          ['f2 t0', 'f2 t1', 'f2 t2', 'f2 t3', 'f2 t4', '...'], # fourier_coef 2\n",
    "          ['f3 t0', 'f3 t1', 'f3 t2', 'f3 t3', 'f3 t4', '...'], # fourier_coef 3\n",
    "          ['f4 t0', 'f4 t1', 'f4 t2', 'f4 t3', 'f4 t4', '...'], # fourier_coef 4\n",
    "          ['...',   '...',   '...',   '...',   '...',   '...']])  # ...\n",
    "#           win 0    win1     win2     win3     win4     ..."
   ]
  },
  {
   "cell_type": "code",
   "execution_count": null,
   "metadata": {
    "colab": {},
    "colab_type": "code",
    "executionInfo": {
     "elapsed": 1300,
     "status": "ok",
     "timestamp": 1594137815295,
     "user": {
      "displayName": "Daniel Kurosch Höpfner",
      "photoUrl": "",
      "userId": "06635282725808825539"
     },
     "user_tz": -120
    },
    "id": "jrt5XO8F-dyV"
   },
   "outputs": [],
   "source": [
    "def calc_stft(x, hop_length=200, window_length=500):\n",
    "\n",
    "    #...\n",
    "    num_wins = int((np.shape(x)[0]-window_length)/hop_length)\n",
    "\n",
    "    stft = np.zeros((window_length, num_wins))\n",
    "    for i in range(num_wins):\n",
    "\n",
    "        start = i* hop_length\n",
    "        stop= start+window_length\n",
    "        win =x[start:stop]\n",
    "        stft[0:i] = calc_dft(win)\n",
    "    return stft"
   ]
  },
  {
   "cell_type": "markdown",
   "metadata": {},
   "source": [
    "Nun können wir die STFT berechnen und plotten:"
   ]
  },
  {
   "cell_type": "code",
   "execution_count": null,
   "metadata": {
    "colab": {
     "base_uri": "https://localhost:8080/",
     "height": 1000,
     "output_embedded_package_id": "1UBW5ZJ5IDGxAmeLzi0OGWF7RmVGbQ194"
    },
    "colab_type": "code",
    "executionInfo": {
     "elapsed": 540588,
     "status": "ok",
     "timestamp": 1594139666265,
     "user": {
      "displayName": "Daniel Kurosch Höpfner",
      "photoUrl": "",
      "userId": "06635282725808825539"
     },
     "user_tz": -120
    },
    "id": "LKsodAP6AGel",
    "outputId": "dd942f3b-b1f8-4972-baf3-92093d7a239b"
   },
   "outputs": [],
   "source": [
    "x, sr = lr.load('../data/violin.mp3')\n",
    "\n",
    "stft = calc_stft(x)\n",
    "\n",
    "plt.figure(figsize=(12, 8))\n",
    "\n",
    "plt.subplot(2, 1, 1)\n",
    "length = np.shape(x)[0]\n",
    "t = np.linspace(0, length / sr, length)\n",
    "plt.plot(t, x)\n",
    "plt.xlim(0, length / sr)\n",
    "\n",
    "plt.subplot(2, 1, 2)\n",
    "# to dB\n",
    "plt.imshow(10 * np.log10(np.abs(stft)), aspect='auto', origin='lower', extent=[0, np.shape(x)[0] / sr, 0, sr])\n",
    "plt.ylim(0, sr / 2)\n",
    "plt.show()"
   ]
  },
  {
   "cell_type": "markdown",
   "metadata": {},
   "source": [
    "Überlegung für nächste Woche: Was passiert, wenn wir verschiedene window-sizes und hop_lengths verwenden?"
   ]
  },
  {
   "cell_type": "code",
   "execution_count": null,
   "metadata": {
    "colab": {},
    "colab_type": "code",
    "id": "Ss5ArTqTExYN",
    "scrolled": false
   },
   "outputs": [],
   "source": [
    "# ausführen dieses code-blocks kann ein bisschen dauern\n",
    "\n",
    "window_sizes = [50, 200, 800, 2400, 4800]\n",
    "for window_size in window_sizes:\n",
    "\n",
    "    hop_lengths = [window_size / 4, window_size / 2]\n",
    "    for hop_length in hop_lengths:\n",
    "\n",
    "        stft = calc_stft(x, hop_length=int(hop_length), window_length=int(window_size))\n",
    "\n",
    "        plt.figure(figsize=(12, 8))\n",
    "\n",
    "        plt.subplot(2, 1, 1)\n",
    "        length = np.shape(x)[0]\n",
    "        t = np.linspace(0, length / sr, length)\n",
    "        plt.plot(t, x)\n",
    "        plt.xlim(0, length / sr)\n",
    "        \n",
    "        plt.subplot(2, 1, 2)\n",
    "        # to dB\n",
    "        plt.imshow(10 * np.log10(np.abs(stft)), aspect='auto', origin='lower', extent=[0, np.shape(x)[0] / sr, 0, sr])\n",
    "        plt.ylim(0, sr / 2)\n",
    "        plt.show()"
   ]
  },
  {
   "cell_type": "code",
   "execution_count": null,
   "metadata": {},
   "outputs": [],
   "source": []
  }
 ],
 "metadata": {
  "colab": {
   "authorship_tag": "ABX9TyM3+MdoBe+tc0RMirTKLlDs",
   "collapsed_sections": [],
   "name": "STFT.ipynb",
   "provenance": [],
   "toc_visible": true
  },
  "kernelspec": {
   "display_name": "Python 3",
   "language": "python",
   "name": "python3"
  },
  "language_info": {
   "codemirror_mode": {
    "name": "ipython",
    "version": 3
   },
   "file_extension": ".py",
   "mimetype": "text/x-python",
   "name": "python",
   "nbconvert_exporter": "python",
   "pygments_lexer": "ipython3",
   "version": "3.7.7"
  },
  "toc": {
   "base_numbering": 1,
   "nav_menu": {},
   "number_sections": true,
   "sideBar": true,
   "skip_h1_title": false,
   "title_cell": "Table of Contents",
   "title_sidebar": "Contents",
   "toc_cell": false,
   "toc_position": {},
   "toc_section_display": true,
   "toc_window_display": false
  },
  "varInspector": {
   "cols": {
    "lenName": 16,
    "lenType": 16,
    "lenVar": 40
   },
   "kernels_config": {
    "python": {
     "delete_cmd_postfix": "",
     "delete_cmd_prefix": "del ",
     "library": "var_list.py",
     "varRefreshCmd": "print(var_dic_list())"
    },
    "r": {
     "delete_cmd_postfix": ") ",
     "delete_cmd_prefix": "rm(",
     "library": "var_list.r",
     "varRefreshCmd": "cat(var_dic_list()) "
    }
   },
   "types_to_exclude": [
    "module",
    "function",
    "builtin_function_or_method",
    "instance",
    "_Feature"
   ],
   "window_display": false
  }
 },
 "nbformat": 4,
 "nbformat_minor": 1
}
