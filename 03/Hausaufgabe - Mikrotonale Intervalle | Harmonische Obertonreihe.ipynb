{
 "cells": [
  {
   "cell_type": "markdown",
   "metadata": {},
   "source": [
    "# Frequenz-Unterschiede in Cent\n",
    "\n",
    "Bei mikrotonalen Intervallen wird der Unterschied zweier Frequenzen in Cent angegeben. Hierbei ergeben 100 Cent einen Halbton, d.h. ein Viertelton wären 50 Cent.\n",
    "\n",
    "Die [Formel](https://de.wikipedia.org/wiki/Cent_(Musik)#Von_Proportionen_in_Cent) um den Unterschied auszurechnen ist:\n",
    "\\\\(i = 1200 \\cdot log_{2}(\\frac{F_1}{F_2})\\\\)"
   ]
  },
  {
   "cell_type": "markdown",
   "metadata": {},
   "source": [
    "<div style=\"background-color:lightyellow\">\n",
    "\n",
    "**Aufgabe 1:**\n",
    "    \n",
    "Schreibt eine Funktion `calc_cents` basierend auf der oben stehenden Formel.\n",
    "    \n",
    "</div>"
   ]
  },
  {
   "cell_type": "code",
   "execution_count": null,
   "metadata": {},
   "outputs": [],
   "source": [
    "def calc_cents(freq1, freq2):\n",
    "    return ...\n",
    "\n",
    "freq1 = 440\n",
    "freq2 = 450\n",
    "print('F1: %d, F2: %d, Intervall: %f Cent' % (freq1, freq2, calc_cents(freq1, freq2)))"
   ]
  },
  {
   "attachments": {
    "hos.png": {
     "image/png": "[encoded data removed]"
    }
   },
   "cell_type": "markdown",
   "metadata": {},
   "source": [
    "# Harmonische Obertonreihe\n",
    "\n",
    "Obertöne sind mitschwingende \"Töne\" auf einem Grundton.\n",
    "\n",
    "Die Frequenzen einer harmonischen Obertonreihe sind ganzzahlige Vielfache der Grundtonfrequenz - also \\\\(F \\cdot 1\\\\), \\\\(F \\cdot 2\\\\), \\\\(F \\cdot 3\\\\), \\\\(F \\cdot 4\\\\), usw.\n",
    "\n",
    "Dabei kommen – basierend auf **C** etwa folgende Obertöne heraus:\n",
    "\n",
    "![hos.png](attachment:hos.png)"
   ]
  },
  {
   "cell_type": "markdown",
   "metadata": {},
   "source": [
    "Für Interessierte: Der [lilypond](https://lilypond.org/) Code für die Graphik:\n",
    "\n",
    "```\\relative {\n",
    "\t\\clef bass c,, c' g' c e g bes \\clef violin c d e fis g aes bes b c\n",
    "}```"
   ]
  },
  {
   "cell_type": "markdown",
   "metadata": {},
   "source": [
    "<div style=\"background-color:lightyellow\">\n",
    "\n",
    "**Aufgabe 2:**\n",
    "    \n",
    "Betreibt mit der Funktion `generate_additive` additive Synthese basierend auf den ersten sechzehn Tönen der harmonischen Obertonreihe mit einem Grundton eurer Wahl.\n",
    "    \n",
    "</div>"
   ]
  },
  {
   "cell_type": "code",
   "execution_count": null,
   "metadata": {},
   "outputs": [],
   "source": [
    "def generate_additive(freqs=[100, 200, 300], dur=3, sr=44100):\n",
    "    t = np.linspace(0, dur, int(sr * dur))\n",
    "    x = np.zeros_like(t)\n",
    "\n",
    "    for freq in freqs:\n",
    "        x = x + (np.sin(t * 2 * np.pi * freq) / (len(freqs) + 1))\n",
    "    \n",
    "    return x, sr"
   ]
  },
  {
   "cell_type": "code",
   "execution_count": null,
   "metadata": {},
   "outputs": [],
   "source": [
    "# euer Code:\n",
    "freqs_series1 = ...\n",
    "\n",
    "\n",
    "harmonic_series1, sr = generate_additive(freqs_series1)\n",
    "\n",
    "ipd.display(ipd.Audio(harmonic_series1, rate=sr))"
   ]
  },
  {
   "cell_type": "markdown",
   "metadata": {},
   "source": [
    "<div style=\"background-color:lightyellow\">\n",
    "\n",
    "**Aufgabe 3:**\n",
    "    \n",
    "Macht dasselbe, aber diesmal basierend auf den in etwa der Obertonreihe entsprechenden Tönen des temperierten Stimmungssystems.\n",
    "\n",
    "Tipp: hierfür benötigt ihr wieder eine Funktion zum Umrechnen von MIDI in Frequenz (in Hz).\n",
    "    \n",
    "</div>"
   ]
  },
  {
   "cell_type": "code",
   "execution_count": null,
   "metadata": {},
   "outputs": [],
   "source": [
    "pitch_series = np.array([ 0, 12, 19, 24, 28, 31, 34, 36,\n",
    "                         38, 40, 42, 43, 44, 46, 47, 48])\n",
    "\n",
    "def midi_to_frequency(pitch):\n",
    "    return ...\n",
    "\n",
    "freqs_series2 = ...\n",
    "\n",
    "harmonic_series2, sr = generate_additive(freqs_series2)\n",
    "\n",
    "ipd.display(ipd.Audio(harmonic_series2, rate=sr))"
   ]
  },
  {
   "cell_type": "markdown",
   "metadata": {},
   "source": [
    "Mit unserer zuvor geschriebenen `calc_cents` Funktion können wir jetzt die genauen Unterschiede in Hz zwischen der harmonischen Obertonreihe und den entsprechenden Tonhöhen aus der temperierten Stimmung ausrechnen:"
   ]
  },
  {
   "cell_type": "code",
   "execution_count": null,
   "metadata": {},
   "outputs": [],
   "source": [
    "pitchclasses = ['C', 'C#', 'D', 'D#', 'E', 'F', 'F#', 'G', 'G#', 'A', 'A#', 'B']\n",
    "\n",
    "freqs_series = np.arange(1, 17) * mtof(48)\n",
    "pitches = np.array([ 0, 12, 19, 24, 28, 31, 34, 36,\n",
    "                    38, 40, 42, 43, 44, 46, 47, 48]) + 48\n",
    "\n",
    "for freq, pitch in zip(freqs_series, pitches):\n",
    "    \n",
    "    micro_intervall = calc_cents(freq, mtof(pitch))\n",
    "\n",
    "    print('%2s: Frequenz (Obertonreihe): %8.2f, Frequenz (temperiert): %8.2f, Intevall: %6.2f Cent' % (pitchclasses[pitch % 12], freq, mtof(pitch), micro_intervall))"
   ]
  }
 ],
 "metadata": {
  "kernelspec": {
   "display_name": "Python 3",
   "language": "python",
   "name": "python3"
  },
  "language_info": {
   "codemirror_mode": {
    "name": "ipython",
    "version": 3
   },
   "file_extension": ".py",
   "mimetype": "text/x-python",
   "name": "python",
   "nbconvert_exporter": "python",
   "pygments_lexer": "ipython3",
   "version": "3.7.7"
  },
  "toc": {
   "base_numbering": 1,
   "nav_menu": {},
   "number_sections": true,
   "sideBar": true,
   "skip_h1_title": false,
   "title_cell": "Table of Contents",
   "title_sidebar": "Contents",
   "toc_cell": false,
   "toc_position": {},
   "toc_section_display": true,
   "toc_window_display": true
  },
  "varInspector": {
   "cols": {
    "lenName": 16,
    "lenType": 16,
    "lenVar": 40
   },
   "kernels_config": {
    "python": {
     "delete_cmd_postfix": "",
     "delete_cmd_prefix": "del ",
     "library": "var_list.py",
     "varRefreshCmd": "print(var_dic_list())"
    },
    "r": {
     "delete_cmd_postfix": ") ",
     "delete_cmd_prefix": "rm(",
     "library": "var_list.r",
     "varRefreshCmd": "cat(var_dic_list()) "
    }
   },
   "types_to_exclude": [
    "module",
    "function",
    "builtin_function_or_method",
    "instance",
    "_Feature"
   ],
   "window_display": false
  }
 },
 "nbformat": 4,
 "nbformat_minor": 2
}
