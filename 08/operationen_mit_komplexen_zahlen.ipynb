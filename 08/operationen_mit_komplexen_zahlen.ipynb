{
  "nbformat": 4,
  "nbformat_minor": 0,
  "metadata": {
    "colab": {
      "name": "operationen_mit_komplexen_zahlen.ipynb",
      "provenance": [],
      "collapsed_sections": []
    },
    "kernelspec": {
      "name": "python3",
      "display_name": "Python 3"
    }
  },
  "cells": [
    {
      "cell_type": "markdown",
      "metadata": {
        "id": "c6aaP8sAdfAS",
        "colab_type": "text"
      },
      "source": [
        "# Operationen mit komplexen Zahlen\n",
        "\n",
        "$c = a + b \\cdot i$\n",
        "\n",
        "<br/>\n",
        "\n",
        "## Addition:\n",
        "\n",
        "$a + b = (x + yi) + (u + vi) = (x + u) + (y + v) i$\n",
        "\n",
        "<br/>\n",
        "\n",
        "## Multiplikation:\n",
        "\n",
        "$\\begin{aligned}\n",
        "a \\cdot b \n",
        "    &= (x + yi) \\cdot (u + vi)&\\\\\n",
        "    &= x (u + vi) + yi (u + vi)\\\\\n",
        "    &= xu + xvi + yiu + yivi\\\\\n",
        "    &= xu + yivi + xvi + yiu\\\\\n",
        "    &= xu + yvi^2 + xvi + yui\\\\\n",
        "    &= (xu + yvi^2) + (xvi + yui)\\\\\n",
        "    &= (xu - yv) + (xvi + yui)\\\\\n",
        "    &= (xu - yv) + (xv + yu) i\n",
        "\\end{aligned}$\n",
        "\n",
        "<br/>\n",
        "\n",
        "## Konjugat:\n",
        "\n",
        "$\\overline {c} = a - b \\cdot i$\n",
        "\n",
        "<br/>\n",
        "\n",
        "## Absoluter Wert (Länge):\n",
        "\n",
        "$|c| = \\sqrt{a^2 + b^2}$\n",
        "\n",
        "<br/>\n",
        "\n",
        "## Winkel:\n",
        "\n",
        "$\\tan(\\phi)=\\frac{b}{a}$\n",
        "\n",
        "$\\phi=\\arctan(\\frac{b}{a})$\n",
        "\n",
        "oder:\n",
        "\n",
        "$\\phi =\\operatorname {\\arctan2} \\left(\\operatorname {Im} (z),\\operatorname {Re} (z)\\right).$\n",
        "\n",
        "<br/>\n",
        "\n",
        "$\\arctan2(x,y)\n",
        "\\mapsto\t\n",
        "{\\begin{cases}\n",
        "    \\arctan \\left(\\tfrac{y}{x} \\right) && x > 0\\\\\n",
        "    \\arctan \\left(\\tfrac{y}{x} \\right) + \\pi && x < 0,\\ y > 0\\\\\n",
        "    \\displaystyle \\pm \\pi && x < 0,\\ y = 0\\\\\n",
        "    \\arctan \\left(\\tfrac{y}{x} \\right) - \\pi && x < 0,\\ y < 0\\\\\n",
        "    +\\tfrac{\\pi}{2} && x = 0,\\ y > 0\\\\\n",
        "    -\\tfrac{\\pi}{2} && x = 0,\\ y < 0\n",
        "\\end{cases}}$"
      ]
    },
    {
      "cell_type": "code",
      "metadata": {
        "id": "FUSd5Z0FYqWo",
        "colab_type": "code",
        "colab": {
          "base_uri": "https://localhost:8080/",
          "height": 399
        },
        "outputId": "4b90a4ae-4430-4676-9b8e-fbab6c8d562a"
      },
      "source": [
        "import numpy as np\n",
        "import matplotlib.pyplot as plt\n",
        "\n",
        "\n",
        "a = 1 + 2 * 1j\n",
        "b = 1.5 + 0.5 * 1j\n",
        "print(a, '\\n')\n",
        "print(b, '\\n')\n",
        "sum_ = a + b\n",
        "print(sum_)\n",
        "\n",
        "\n",
        "plt.figure(figsize=(4.5, 4.5))\n",
        "\n",
        "plt.plot(np.linspace(-0.5, 4), np.zeros(50), color=[0, 0, 0, 1])\n",
        "plt.plot(np.zeros(50), np.linspace(-0.5, 4), color=[0, 0, 0, 1])\n",
        "\n",
        "plt.plot([np.real(a)], [np.imag(a)], 'o', color=[0.5, 0.5, 1, 1])\n",
        "plt.plot([np.real(b)], [np.imag(b)], 'o', color=[1, 0.5, 0, 1])\n",
        "plt.plot([np.real(sum_)], [np.imag(sum_)], 'o', color=[0, 1, 0, 1])\n",
        "\n",
        "# \"vektoren\"-darstellung\n",
        "# plt.plot([0, np.real(a)], [0, np.imag(a)], color=[0.5, 0.5, 1, 1])\n",
        "# plt.plot([0, np.real(b)], [0, np.imag(b)], color=[1, 0.5, 0, 1])\n",
        "# plt.plot([0, np.real(sum_)], [0, np.imag(sum_)], color=[0, 1, 0, 1])\n",
        "# plt.plot([np.real(a), np.real(a) + np.real(b)], [np.imag(a), np.imag(a) + np.imag(b)], color=[1, 0.5, 0, 1])\n",
        "# plt.plot([np.real(b), np.real(a) + np.real(b)], [np.imag(b), np.imag(a) + np.imag(b)], color=[0.5, 0.5, 1, 1])\n",
        "\n",
        "plt.xlim(-0.5, 4)\n",
        "plt.ylim(-0.5, 4)"
      ],
      "execution_count": 41,
      "outputs": [
        {
          "output_type": "stream",
          "text": [
            "(1+2j) \n",
            "\n",
            "(1.5+0.5j) \n",
            "\n",
            "(2.5+2.5j)\n"
          ],
          "name": "stdout"
        },
        {
          "output_type": "execute_result",
          "data": {
            "text/plain": [
              "(-0.5, 4.0)"
            ]
          },
          "metadata": {
            "tags": []
          },
          "execution_count": 41
        },
        {
          "output_type": "display_data",
          "data": {
            "image/png": "[encoded data removed]",
            "text/plain": [
              "<Figure size 324x324 with 1 Axes>"
            ]
          },
          "metadata": {
            "tags": [],
            "needs_background": "light"
          }
        }
      ]
    }
  ]
}