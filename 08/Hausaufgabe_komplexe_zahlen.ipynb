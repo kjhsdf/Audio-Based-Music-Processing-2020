{
 "cells": [
  {
   "cell_type": "markdown",
   "metadata": {
    "colab_type": "text",
    "id": "sbFx8yScDanY"
   },
   "source": [
    "# Aufgaben für Stift und Papier ( oder im Kopf :) )"
   ]
  },
  {
   "cell_type": "markdown",
   "metadata": {
    "colab_type": "text",
    "id": "UQXVX2ZJDczH"
   },
   "source": [
    "<div style=\"background-color:light-yellow\">\n",
    "\n",
    "**Aufgabe 1:**\n",
    "\n",
    "Findet von folgenden komplexen Zahlen den absoluten Wert heraus:\n",
    "\n",
    "1. $i$\n",
    "2. $2$\n",
    "3. $2 + 2i$\n",
    "4. $\\sqrt{2} + \\sqrt{7}i$\n",
    "\n",
    "</div>"
   ]
  },
  {
   "cell_type": "markdown",
   "metadata": {
    "colab_type": "text",
    "id": "yipSiX4s-opK"
   },
   "source": [
    "1. ...\n",
    "2. ...\n",
    "3. ...\n",
    "4. ..."
   ]
  },
  {
   "cell_type": "markdown",
   "metadata": {
    "colab_type": "text",
    "id": "R-VjY-wFDf_x"
   },
   "source": [
    "<div style=\"background-color:light-yellow\">\n",
    "\n",
    "**Aufgabe 2:**\n",
    "\n",
    "Findet den Winkel der folgenden komplexen Zahlen heraus:\n",
    "\n",
    "1. $1$\n",
    "2. $i$\n",
    "3. $1 + i$\n",
    "4. $-1$\n",
    "5. $-1 + i$\n",
    "\n",
    "</div>"
   ]
  },
  {
   "cell_type": "markdown",
   "metadata": {
    "colab_type": "text",
    "id": "-ZU7-B4e-tif"
   },
   "source": [
    "1. ...\n",
    "2. ...\n",
    "3. ...\n",
    "4. ...\n",
    "5. ..."
   ]
  }
 ],
 "metadata": {
  "colab": {
   "name": "Hausaufgabe_komplexe_zahlen.ipynb",
   "provenance": []
  },
  "kernelspec": {
   "display_name": "Python 3",
   "language": "python",
   "name": "python3"
  },
  "language_info": {
   "codemirror_mode": {
    "name": "ipython",
    "version": 3
   },
   "file_extension": ".py",
   "mimetype": "text/x-python",
   "name": "python",
   "nbconvert_exporter": "python",
   "pygments_lexer": "ipython3",
   "version": "3.7.7"
  }
 },
 "nbformat": 4,
 "nbformat_minor": 1
}
