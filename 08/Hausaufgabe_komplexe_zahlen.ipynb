{
  "nbformat": 4,
  "nbformat_minor": 0,
  "metadata": {
    "colab": {
      "name": "Hausaufgabe_komplexe_zahlen.ipynb",
      "provenance": []
    },
    "kernelspec": {
      "name": "python3",
      "display_name": "Python 3"
    }
  },
  "cells": [
    {
      "cell_type": "markdown",
      "metadata": {
        "id": "sbFx8yScDanY",
        "colab_type": "text"
      },
      "source": [
        "# Aufgaben für Stift und Papier ( oder im Kopf :) )"
      ]
    },
    {
      "cell_type": "markdown",
      "metadata": {
        "id": "UQXVX2ZJDczH",
        "colab_type": "text"
      },
      "source": [
        "<div style=\"background-color:light-yellow\">\n",
        "\n",
        "**Aufgabe 1:**\n",
        "\n",
        "Findet von folgenden komplexen Zahlen den absoluten Wert heraus:\n",
        "\n",
        "1. $i$\n",
        "2. $2$\n",
        "3. $2 + 2i$\n",
        "4. $\\sqrt{2} + \\sqrt{7}i$\n",
        "\n",
        "</div>"
      ]
    },
    {
      "cell_type": "markdown",
      "metadata": {
        "id": "yipSiX4s-opK",
        "colab_type": "text"
      },
      "source": [
        "1. ...\n",
        "2. ...\n",
        "3. ...\n",
        "4. ..."
      ]
    },
    {
      "cell_type": "markdown",
      "metadata": {
        "id": "R-VjY-wFDf_x",
        "colab_type": "text"
      },
      "source": [
        "<div style=\"background-color:light-yellow\">\n",
        "\n",
        "**Aufgabe 2:**\n",
        "\n",
        "Findet den Winkel der folgenden komplexen Zahlen heraus:\n",
        "\n",
        "1. $1$\n",
        "2. $i$\n",
        "3. $1 + i$\n",
        "4. $-1$\n",
        "5. $-1 + i$\n",
        "\n",
        "</div>"
      ]
    },
    {
      "cell_type": "markdown",
      "metadata": {
        "id": "-ZU7-B4e-tif",
        "colab_type": "text"
      },
      "source": [
        "1. ...\n",
        "2. ...\n",
        "3. ...\n",
        "4. ...\n",
        "5. ..."
      ]
    }
  ]
}