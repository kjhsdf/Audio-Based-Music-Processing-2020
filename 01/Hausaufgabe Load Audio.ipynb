{
 "cells": [
  {
   "cell_type": "markdown",
   "metadata": {},
   "source": [
    "# Audio in ein Jupyter Notebook laden"
   ]
  },
  {
   "cell_type": "markdown",
   "metadata": {},
   "source": [
    "Wir wollen eine Audio-Datei in Python laden und im Notebook abspielen.\n",
    "\n",
    "Dafür können wir das Modul `librosa` verwenden."
   ]
  },
  {
   "cell_type": "markdown",
   "metadata": {},
   "source": [
    "Importiert die Module `librosa` und `numpy` (als `np`):"
   ]
  },
  {
   "cell_type": "code",
   "execution_count": null,
   "metadata": {},
   "outputs": [],
   "source": [
    "import ...\n",
    "import ... as np"
   ]
  },
  {
   "cell_type": "markdown",
   "metadata": {},
   "source": [
    "Von `librosa` verwenden wir die Methode `librosa.load`.\n",
    "\n",
    "Fügt die Funktion hier ein. Wichtig: es muss ein Pfad zu einer Audio-Datei angegeben werden (hier könnt ihr eine Datei von eurem Rechner auswählen, die am Besten unkomprimiert ist, also \"aiff\", \"wav\", etc.)"
   ]
  },
  {
   "cell_type": "code",
   "execution_count": null,
   "metadata": {},
   "outputs": [],
   "source": [
    "file_load = ..."
   ]
  },
  {
   "cell_type": "markdown",
   "metadata": {},
   "source": [
    "Sehen wir uns die Dokumentation von [`librosa.load`](https://librosa.github.io/librosa/generated/librosa.core.load.html#librosa-core-load) an:\n",
    "https://librosa.github.io/librosa/generated/librosa.core.load.html#librosa-core-load\n",
    "\n",
    "Wenn wir bis zu \"Returns\" herunterscrollen, sehen wir, dass die Funktion einen Tuple ausgibt.\n",
    "\n",
    "Wir können das mit `np.shape` überprüfen:"
   ]
  },
  {
   "cell_type": "code",
   "execution_count": null,
   "metadata": {},
   "outputs": [],
   "source": [
    "print(np.shape(file_load))\n",
    "\n",
    "print(np.shape(file_load[0])) # audio daten\n",
    "print(np.shape(file_load[1]))\n",
    "print(file_load[1]) # sample rate"
   ]
  },
  {
   "cell_type": "markdown",
   "metadata": {},
   "source": [
    "Jetzt wollen wir das Audio mit dem Modul `IPython.display` abspielen:\n",
    "\n",
    "Fügt den richtigen Code ein, damit das Audio und die Sample-Rate unter den Variablen `audio` und `sample_rate` gespeichert sind."
   ]
  },
  {
   "cell_type": "code",
   "execution_count": null,
   "metadata": {},
   "outputs": [],
   "source": [
    "import IPython.display as ipd\n",
    "\n",
    "audio = ...\n",
    "sample_rate = ...\n",
    "\n",
    "ipd.Audio(audio, rate=sample_rate)"
   ]
  },
  {
   "cell_type": "markdown",
   "metadata": {},
   "source": [
    "Et voilà :)"
   ]
  }
 ],
 "metadata": {
  "kernelspec": {
   "display_name": "Python 3",
   "language": "python",
   "name": "python3"
  },
  "language_info": {
   "codemirror_mode": {
    "name": "ipython",
    "version": 3
   },
   "file_extension": ".py",
   "mimetype": "text/x-python",
   "name": "python",
   "nbconvert_exporter": "python",
   "pygments_lexer": "ipython3",
   "version": "3.7.7"
  },
  "toc": {
   "base_numbering": 1,
   "nav_menu": {},
   "number_sections": true,
   "sideBar": true,
   "skip_h1_title": false,
   "title_cell": "Table of Contents",
   "title_sidebar": "Contents",
   "toc_cell": false,
   "toc_position": {},
   "toc_section_display": true,
   "toc_window_display": false
  },
  "varInspector": {
   "cols": {
    "lenName": 16,
    "lenType": 16,
    "lenVar": 40
   },
   "kernels_config": {
    "python": {
     "delete_cmd_postfix": "",
     "delete_cmd_prefix": "del ",
     "library": "var_list.py",
     "varRefreshCmd": "print(var_dic_list())"
    },
    "r": {
     "delete_cmd_postfix": ") ",
     "delete_cmd_prefix": "rm(",
     "library": "var_list.r",
     "varRefreshCmd": "cat(var_dic_list()) "
    }
   },
   "types_to_exclude": [
    "module",
    "function",
    "builtin_function_or_method",
    "instance",
    "_Feature"
   ],
   "window_display": false
  }
 },
 "nbformat": 4,
 "nbformat_minor": 2
}
