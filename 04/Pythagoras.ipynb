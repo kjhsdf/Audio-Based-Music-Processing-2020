{
 "cells": [
  {
   "cell_type": "markdown",
   "metadata": {
    "colab_type": "text",
    "id": "4wbkaUwcYID7"
   },
   "source": [
    "# Pythagoreisches Komma"
   ]
  },
  {
   "cell_type": "markdown",
   "metadata": {
    "colab_type": "text",
    "id": "6gVyynS6UtEo"
   },
   "source": [
    "Basiert auf reinen Quinten\n",
    "\n",
    "\n",
    "|engl. Schreibweise| C | G | D | A | E | B | F#/Gb | C#/Db | G#/Ab | D#/Eb | A#/Bb | F | C |\n",
    "|-|-|-|-|-|-|-|-|-|-|-|-|-|-|\n",
    "|dt. Schreibweise|C|G|D|A|E|H|Fis/Ges|Cis/Des|Gis/As|Dis/Es|Ais/B|F|C|"
   ]
  },
  {
   "cell_type": "code",
   "execution_count": 1,
   "metadata": {
    "colab": {},
    "colab_type": "code",
    "id": "irtLNlh0KNIY"
   },
   "outputs": [
    {
     "data": {
      "text/plain": [
       "1.5"
      ]
     },
     "execution_count": 1,
     "metadata": {},
     "output_type": "execute_result"
    }
   ],
   "source": [
    "# verhaeltnis reine quinte:\n",
    "3 / 2"
   ]
  },
  {
   "cell_type": "code",
   "execution_count": 2,
   "metadata": {
    "colab": {
     "base_uri": "https://localhost:8080/",
     "height": 102
    },
    "colab_type": "code",
    "id": "7LZT5OZcZJzU",
    "outputId": "1f97fdfb-1fb0-418a-c159-efe6a27e68c3"
   },
   "outputs": [
    {
     "name": "stdout",
     "output_type": "stream",
     "text": [
      "C 100.0\n",
      "G 150.0\n",
      "D 112.5\n",
      "A 168.75\n",
      "E 126.5625\n"
     ]
    }
   ],
   "source": [
    "print(\"C\", 100 * 1/ 1)\n",
    "print(\"G\", 100 * 3 / 2)\n",
    "print(\"D\", 150.0 * 3 / 4)\n",
    "print(\"A\", 112.5 * 3 / 2)\n",
    "print(\"E\", 168.75 * 3 / 4)\n",
    "# ...\n",
    "# ..."
   ]
  },
  {
   "cell_type": "code",
   "execution_count": 3,
   "metadata": {
    "colab": {
     "base_uri": "https://localhost:8080/",
     "height": 102
    },
    "colab_type": "code",
    "id": "i1z07C7mY3PH",
    "outputId": "a2da6a85-7e17-49e8-8750-169684a7bbe7"
   },
   "outputs": [
    {
     "name": "stdout",
     "output_type": "stream",
     "text": [
      "C 100.0\n",
      "G 150.0\n",
      "D 112.5\n",
      "A 168.75\n",
      "E 126.5625\n"
     ]
    }
   ],
   "source": [
    "freq = 100\n",
    "\n",
    "print(\"C\", freq * 1/ 1)\n",
    "print(\"G\", freq * 3 / 2)\n",
    "print(\"D\", freq * (3 / 2) * (3 / 2) * (1 / 2))\n",
    "print(\"A\", freq * (3 / 2) * (3 / 2) * (1 / 2) * (3 / 2))\n",
    "print(\"E\", freq * (3 / 2) * (3 / 2) * (1 / 2) * (3 / 2) * (3 / 2) * (1 / 2))\n",
    "# ...\n",
    "# ..."
   ]
  },
  {
   "cell_type": "markdown",
   "metadata": {
    "colab_type": "text",
    "id": "JRYtIy0lacvL"
   },
   "source": [
    "**Rechenregel:**\n",
    "\n",
    "$a^0 = 1$\n",
    "\n",
    "$a^1 = a$"
   ]
  },
  {
   "cell_type": "code",
   "execution_count": 4,
   "metadata": {
    "colab": {
     "base_uri": "https://localhost:8080/",
     "height": 102
    },
    "colab_type": "code",
    "id": "H9hdgDqKZk0T",
    "outputId": "9858b921-1baf-4538-acc0-70ceb956f770"
   },
   "outputs": [
    {
     "name": "stdout",
     "output_type": "stream",
     "text": [
      "C 100.0\n",
      "G 150.0\n",
      "D 112.5\n",
      "A 168.75\n",
      "E 126.5625\n"
     ]
    }
   ],
   "source": [
    "freq = 100\n",
    "ratio = 3 / 2\n",
    "\n",
    "print(\"C\", freq * 1/ 1) # = ratio ** 0\n",
    "print(\"G\", freq * ratio)\n",
    "print(\"D\", freq * (ratio ** 2) * (1 / 2))\n",
    "print(\"A\", freq * (ratio ** 3) * (1 / 2))\n",
    "print(\"E\", freq * (ratio ** 4) * ((1 / 2) ** 2))\n",
    "# ...\n",
    "# ..."
   ]
  },
  {
   "cell_type": "markdown",
   "metadata": {
    "colab_type": "text",
    "id": "MBYZPoFsaV8R"
   },
   "source": [
    "**Rechenregel:**\n",
    "\n",
    "$(a \\cdot b)^2 = a^2 \\cdot b^2$ \n",
    "\n",
    "$(\\frac{a}{b})^2 = \\frac{a^2}{b^2}$ "
   ]
  },
  {
   "cell_type": "code",
   "execution_count": 5,
   "metadata": {
    "colab": {
     "base_uri": "https://localhost:8080/",
     "height": 102
    },
    "colab_type": "code",
    "id": "Ns_cImjSaCAb",
    "outputId": "dc4232cd-1840-49a2-91c9-d628835657e7"
   },
   "outputs": [
    {
     "name": "stdout",
     "output_type": "stream",
     "text": [
      "C 100.0\n",
      "G 150.0\n",
      "D 112.5\n",
      "A 168.75\n",
      "E 126.5625\n"
     ]
    }
   ],
   "source": [
    "freq = 100\n",
    "\n",
    "print(\"C\", freq * 3 ** 0 / 2 ** 0)\n",
    "print(\"G\", freq * 3 ** 1 / 2 ** 1)\n",
    "print(\"D\", freq * 3 ** 2 / 2 ** 3)\n",
    "print(\"A\", freq * 3 ** 3 / 2 ** 4)\n",
    "print(\"E\", freq * 3 ** 4 / 2 ** 6)\n",
    "# ...\n",
    "# ..."
   ]
  },
  {
   "cell_type": "code",
   "execution_count": 6,
   "metadata": {
    "colab": {
     "base_uri": "https://localhost:8080/",
     "height": 102
    },
    "colab_type": "code",
    "id": "IDiHvuFdc0im",
    "outputId": "e6728a85-e50e-4ead-9d6e-4de8869f3a75"
   },
   "outputs": [
    {
     "name": "stdout",
     "output_type": "stream",
     "text": [
      "C 100.0\n",
      "G 150.0\n",
      "D 112.5\n",
      "A 168.75\n",
      "E 126.5625\n"
     ]
    }
   ],
   "source": [
    "def calc_ratio(num3, num2):\n",
    "    return 3 ** num3 / 2 ** num2\n",
    "\n",
    "freq = 100\n",
    "\n",
    "print(\"C\", freq * calc_ratio(0, 0))\n",
    "print(\"G\", freq * calc_ratio(1, 1))\n",
    "print(\"D\", freq * calc_ratio(2, 3))\n",
    "print(\"A\", freq * calc_ratio(3, 4))\n",
    "print(\"E\", freq * calc_ratio(4, 6))\n",
    "# ...\n",
    "# ..."
   ]
  }
 ],
 "metadata": {
  "colab": {
   "name": "Untitled0.ipynb",
   "provenance": []
  },
  "kernelspec": {
   "display_name": "Python 3",
   "language": "python",
   "name": "python3"
  },
  "language_info": {
   "codemirror_mode": {
    "name": "ipython",
    "version": 3
   },
   "file_extension": ".py",
   "mimetype": "text/x-python",
   "name": "python",
   "nbconvert_exporter": "python",
   "pygments_lexer": "ipython3",
   "version": "3.7.7"
  },
  "toc": {
   "base_numbering": 1,
   "nav_menu": {},
   "number_sections": true,
   "sideBar": true,
   "skip_h1_title": false,
   "title_cell": "Table of Contents",
   "title_sidebar": "Contents",
   "toc_cell": false,
   "toc_position": {},
   "toc_section_display": true,
   "toc_window_display": true
  },
  "varInspector": {
   "cols": {
    "lenName": 16,
    "lenType": 16,
    "lenVar": 40
   },
   "kernels_config": {
    "python": {
     "delete_cmd_postfix": "",
     "delete_cmd_prefix": "del ",
     "library": "var_list.py",
     "varRefreshCmd": "print(var_dic_list())"
    },
    "r": {
     "delete_cmd_postfix": ") ",
     "delete_cmd_prefix": "rm(",
     "library": "var_list.r",
     "varRefreshCmd": "cat(var_dic_list()) "
    }
   },
   "types_to_exclude": [
    "module",
    "function",
    "builtin_function_or_method",
    "instance",
    "_Feature"
   ],
   "window_display": false
  }
 },
 "nbformat": 4,
 "nbformat_minor": 1
}
