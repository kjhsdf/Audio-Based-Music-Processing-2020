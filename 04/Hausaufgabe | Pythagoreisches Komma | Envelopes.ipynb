{
 "cells": [
  {
   "cell_type": "markdown",
   "metadata": {},
   "source": [
    "# Imports"
   ]
  },
  {
   "cell_type": "code",
   "execution_count": null,
   "metadata": {},
   "outputs": [],
   "source": [
    "import numpy as np\n",
    "import matplotlib.pyplot as plt\n",
    "import IPython.display as ipd"
   ]
  },
  {
   "cell_type": "markdown",
   "metadata": {
    "colab_type": "text",
    "id": "4wbkaUwcYID7"
   },
   "source": [
    "# Pythagoreisches Komma"
   ]
  },
  {
   "cell_type": "markdown",
   "metadata": {},
   "source": [
    "<div style=\"background-color:lightyellow\">\n",
    "\n",
    "**Aufgabe 1:**\n",
    "\n",
    "Berechnet die Frequenzverhältnisse mit der Funktion `calc_ratio` wie folgt in einem Loop:\n",
    "\n",
    "1. Verhältnis (`ratio`) berechnen\n",
    "2. prüfen, ob sich die resultierende Frequenz immer noch innerhalb der Oktave befindet ($\\mathrm{ratio} \\leq 2$)\n",
    "    - wenn ja: Frequenz durch $2$ dividieren (<=> inkrementiere `num2`)\n",
    "    - nein: weiter im Loop\n",
    "3. `num3` und `num2` um $1$ inkrementieren\n",
    "\n",
    "Die Tabelle kann euch als Kontrolle dienen:\n",
    "\n",
    "\n",
    "|engl. Schreibweise| C | G | D | A | E | B | F#/Gb | C#/Db | G#/Ab | D#/Eb | A#/Bb | F | C |\n",
    "|-|-|-|-|-|-|-|-|-|-|-|-|-|-|\n",
    "|dt. Schreibweise|C|G|D|A|E|H|Fis/Ges|Cis/Des|Gis/As|Dis/Es|Ais/B|F|C|\n",
    "|Verhältnis|$\\frac{3^0}{2^0}$|$\\frac{3^1}{2^1}$|$\\frac{3^2}{2^3}$|$\\frac{3^3}{2^4}$|$\\frac{3^4}{2^6}$|$\\frac{3^5}{2^7}$|$\\frac{3^6}{2^9}$|$\\frac{3^7}{2^{11}}$|$\\frac{3^8}{2^{12}}$|$\\frac{3^9}{2^{14}}$|$\\frac{3^{10}}{2^{15}}$|$\\frac{3^{11}}{2^{17}}$|$\\frac{3^{12}}{2^{19}}$|\n",
    "    \n",
    "</div>"
   ]
  },
  {
   "cell_type": "code",
   "execution_count": null,
   "metadata": {},
   "outputs": [],
   "source": [
    "pitchclasses = ['C', 'C#', 'D', 'D#', 'E', 'F', 'F#', 'G', 'G#', 'A', 'A#', 'B']\n",
    "\n",
    "def calc_cents(f1, f2):\n",
    "    return 1200 * np.log2(f2 / f1)\n",
    "\n",
    "def calc_ratio(num3, num2):\n",
    "    return 3 ** num3 / 2 ** num2\n",
    "\n",
    "midinote = 0\n",
    "num2 = 0\n",
    "num3 = 0\n",
    "\n",
    "for quint_num in range(13):\n",
    "    # ratio berechnen\n",
    "    ratio = ...\n",
    "\n",
    "    # prüfen, ob sich die resultierende frequenz immer noch innerhalb der Okave befindet\n",
    "        # ja: dann num2 um 1 inkrementieren und ratio nochmals berechnen\n",
    "    ...\n",
    "    ...\n",
    "\n",
    "    print('%2d, %2s, %2d, %2d' % (quint_num, pitchclasses[midinote], num3, num2))\n",
    "    sinus = np.sin(np.linspace(0, 1, 44100) * 2 * np.pi * 261.63 * ratio)\n",
    "    ipd.display(ipd.Audio(sinus, rate=44100))\n",
    "    \n",
    "    # num3 und num2 um 1 inkrementieren\n",
    "    ...\n",
    "    ...\n",
    "    \n",
    "    midinote = (midinote + 7) % 12\n",
    "\n",
    "print('\\n Pythagorean Comma:', calc_cents(1, calc_ratio(12, 19)))\n",
    "sinus = np.sin(np.linspace(0, 1, 44100) * 2 * np.pi * 261.63 * calc_ratio(0, 0))\n",
    "ipd.display(ipd.Audio(sinus, rate=44100))\n",
    "sinus = np.sin(np.linspace(0, 1, 44100) * 2 * np.pi * 261.63 * calc_ratio(12, 19))\n",
    "ipd.display(ipd.Audio(sinus, rate=44100))"
   ]
  },
  {
   "cell_type": "markdown",
   "metadata": {
    "colab_type": "text",
    "id": "7aNQw4zljYIJ"
   },
   "source": [
    "# Envelopes"
   ]
  },
  {
   "cell_type": "markdown",
   "metadata": {},
   "source": [
    "\n",
    "\n",
    "\n",
    "\n",
    "In der folgenden Abbildung ist eine ADRS-Envelope (Attack-Decay-Sustain-Release) dargestellt:\n",
    "\n",
    "![Lineare Envelope](adsr_linear.png)\n",
    "\n",
    "<br/>\n",
    "\n",
    "<div style=\"background-color:lightyellow\">\n",
    "    \n",
    "**Aufgabe 2:**\n",
    "\n",
    "Schreibt eine Funktion `generate_adsr` um eine ADSR-Envelope (ähnlich wie in der Abbildung) zu generieren.\n",
    "    \n",
    "</div>"
   ]
  },
  {
   "cell_type": "code",
   "execution_count": null,
   "metadata": {},
   "outputs": [],
   "source": [
    "def generate_adsr(attack=0.5, decay=0.1, sustain_val=0.8, sustain_len=1, release=1, sr=44100):\n",
    "    a = ...\n",
    "    d = ...\n",
    "    s = ...\n",
    "    r = ...\n",
    "    return np.concatenate((a, d, s, r))\n",
    "\n",
    "sr = 44100\n",
    "\n",
    "adsr = generate_adsr(0.5, 0.2, 0.8, 1, 1, sr=44100)\n",
    "\n",
    "t = np.linspace(0, np.shape(adsr)[0] / sr, np.shape(adsr)[0])\n",
    "\n",
    "plt.figure(figsize=(13, 4))\n",
    "plt.plot(t, adsr)\n",
    "\n",
    "sin = np.sin(t * 2 * np.pi * 440)\n",
    "sin = sin * adsr\n",
    "ipd.display(ipd.Audio(sin, rate=sr))"
   ]
  },
  {
   "cell_type": "markdown",
   "metadata": {},
   "source": [
    "<div style=\"background-color:lightyellow\">\n",
    "    \n",
    "**Optionale Aufgabe:**\n",
    "\n",
    "Oftmals werden Envelopes als Exponential-Funktionen gerneriert.\n",
    "\n",
    "Was muss man an der Funktion `generate_adsr` ändern, um eine \"kurvige\" Envelope zu generieren?\n",
    "\n",
    "![Exponentielle Envelope](adsr_exp.png)\n",
    "    \n",
    "</div>"
   ]
  },
  {
   "cell_type": "code",
   "execution_count": null,
   "metadata": {},
   "outputs": [],
   "source": [
    "def generate_exp_adsr(attack=0.5, decay=0.1, sustain_val=0.8, sustain_len=1, release=1, sr=44100):\n",
    "    ...\n",
    "    return ...\n",
    "\n",
    "sr = 44100\n",
    "\n",
    "adsr = generate_exp_adsr(0.5, 0.2, 0.8, 1, 1, sr=44100)\n",
    "\n",
    "t = np.linspace(0, np.shape(adsr)[0] / sr, np.shape(adsr)[0])\n",
    "\n",
    "plt.figure(figsize=(13, 4))\n",
    "plt.plot(t, adsr)\n",
    "\n",
    "sin = np.sin(t * 2 * np.pi * 440)\n",
    "sin = sin * adsr\n",
    "ipd.display(ipd.Audio(sin, rate=sr))"
   ]
  }
 ],
 "metadata": {
  "colab": {
   "name": "Untitled0.ipynb",
   "provenance": []
  },
  "kernelspec": {
   "display_name": "Python 3",
   "language": "python",
   "name": "python3"
  },
  "language_info": {
   "codemirror_mode": {
    "name": "ipython",
    "version": 3
   },
   "file_extension": ".py",
   "mimetype": "text/x-python",
   "name": "python",
   "nbconvert_exporter": "python",
   "pygments_lexer": "ipython3",
   "version": "3.7.7"
  },
  "toc": {
   "base_numbering": 1,
   "nav_menu": {},
   "number_sections": true,
   "sideBar": true,
   "skip_h1_title": false,
   "title_cell": "Table of Contents",
   "title_sidebar": "Contents",
   "toc_cell": false,
   "toc_position": {},
   "toc_section_display": true,
   "toc_window_display": false
  },
  "varInspector": {
   "cols": {
    "lenName": 16,
    "lenType": 16,
    "lenVar": 40
   },
   "kernels_config": {
    "python": {
     "delete_cmd_postfix": "",
     "delete_cmd_prefix": "del ",
     "library": "var_list.py",
     "varRefreshCmd": "print(var_dic_list())"
    },
    "r": {
     "delete_cmd_postfix": ") ",
     "delete_cmd_prefix": "rm(",
     "library": "var_list.r",
     "varRefreshCmd": "cat(var_dic_list()) "
    }
   },
   "types_to_exclude": [
    "module",
    "function",
    "builtin_function_or_method",
    "instance",
    "_Feature"
   ],
   "window_display": false
  }
 },
 "nbformat": 4,
 "nbformat_minor": 1
}
